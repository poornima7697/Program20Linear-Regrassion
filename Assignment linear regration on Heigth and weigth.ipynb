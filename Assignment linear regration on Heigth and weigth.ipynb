{
 "cells": [
  {
   "cell_type": "code",
   "execution_count": 1,
   "id": "2fbf1527",
   "metadata": {},
   "outputs": [],
   "source": [
    "import findspark\n",
    "findspark.init()\n"
   ]
  },
  {
   "cell_type": "code",
   "execution_count": 2,
   "id": "181e2cbc",
   "metadata": {},
   "outputs": [],
   "source": [
    "import pyspark \n",
    "from pyspark.sql import SparkSession\n",
    "spark=SparkSession.builder.appName(\"StudyApp\").getOrCreate()"
   ]
  },
  {
   "cell_type": "code",
   "execution_count": 4,
   "id": "5fd16a3f",
   "metadata": {},
   "outputs": [
    {
     "name": "stdout",
     "output_type": "stream",
     "text": [
      "+---+------+------+-----+-----+\n",
      "|sex|weight|height|repwt|repht|\n",
      "+---+------+------+-----+-----+\n",
      "|  F|    39|   157|   41|  153|\n",
      "|  F|    43|   154| null| null|\n",
      "|  F|    44|   157|   44|  155|\n",
      "|  F|    45|   163|   45|  160|\n",
      "|  F|    45|   157|   45|  153|\n",
      "|  F|    47|   163|   47|  160|\n",
      "|  M|    47|   153| null|  154|\n",
      "|  F|    47|   162|   47|  160|\n",
      "|  M|    47|   150|   45|  152|\n",
      "|  M|    48|   163|   44|  160|\n",
      "|  M|    49|   161| null| null|\n",
      "|  F|    50|   166|   50|  165|\n",
      "|  F|    50|   166|   50|  161|\n",
      "|  F|    50|   171| null| null|\n",
      "|  F|    50|   160|   55|  150|\n",
      "|  F|    50|   169|   50|  165|\n",
      "|  F|    50|   148|   47|  148|\n",
      "|  F|    50|   158|   49|  155|\n",
      "|  F|    51|   161|   52|  158|\n",
      "|  F|    51|   163|   50|  160|\n",
      "+---+------+------+-----+-----+\n",
      "only showing top 20 rows\n",
      "\n"
     ]
    }
   ],
   "source": [
    "df=spark.read.csv(\"D:\\Height-Weight1.csv\",header=True,inferSchema=True)\n",
    "df.show()"
   ]
  },
  {
   "cell_type": "code",
   "execution_count": 6,
   "id": "2ecdbb5f",
   "metadata": {},
   "outputs": [
    {
     "name": "stdout",
     "output_type": "stream",
     "text": [
      "root\n",
      " |-- sex: string (nullable = true)\n",
      " |-- weight: integer (nullable = true)\n",
      " |-- height: integer (nullable = true)\n",
      " |-- repwt: integer (nullable = true)\n",
      " |-- repht: integer (nullable = true)\n",
      "\n"
     ]
    }
   ],
   "source": [
    "df.printSchema()"
   ]
  },
  {
   "cell_type": "code",
   "execution_count": 8,
   "id": "73ed4409",
   "metadata": {},
   "outputs": [
    {
     "name": "stdout",
     "output_type": "stream",
     "text": [
      "+---+------+------+-----+-----+----------+\n",
      "|sex|weight|height|repwt|repht|Heightdata|\n",
      "+---+------+------+-----+-----+----------+\n",
      "|  F|    39|   157|   41|  153|   [157.0]|\n",
      "|  F|    43|   154| null| null|   [154.0]|\n",
      "|  F|    44|   157|   44|  155|   [157.0]|\n",
      "|  F|    45|   163|   45|  160|   [163.0]|\n",
      "|  F|    45|   157|   45|  153|   [157.0]|\n",
      "|  F|    47|   163|   47|  160|   [163.0]|\n",
      "|  M|    47|   153| null|  154|   [153.0]|\n",
      "|  F|    47|   162|   47|  160|   [162.0]|\n",
      "|  M|    47|   150|   45|  152|   [150.0]|\n",
      "|  M|    48|   163|   44|  160|   [163.0]|\n",
      "|  M|    49|   161| null| null|   [161.0]|\n",
      "|  F|    50|   166|   50|  165|   [166.0]|\n",
      "|  F|    50|   166|   50|  161|   [166.0]|\n",
      "|  F|    50|   171| null| null|   [171.0]|\n",
      "|  F|    50|   160|   55|  150|   [160.0]|\n",
      "|  F|    50|   169|   50|  165|   [169.0]|\n",
      "|  F|    50|   148|   47|  148|   [148.0]|\n",
      "|  F|    50|   158|   49|  155|   [158.0]|\n",
      "|  F|    51|   161|   52|  158|   [161.0]|\n",
      "|  F|    51|   163|   50|  160|   [163.0]|\n",
      "+---+------+------+-----+-----+----------+\n",
      "only showing top 20 rows\n",
      "\n"
     ]
    }
   ],
   "source": [
    "#formating\n",
    "from pyspark.ml.feature import VectorAssembler \n",
    "featureassembler=VectorAssembler(inputCols=['height'],outputCol='Heightdata')\n",
    "df1=featureassembler.transform(df)\n",
    "df1.show()\n"
   ]
  },
  {
   "cell_type": "code",
   "execution_count": 9,
   "id": "6d47ae89",
   "metadata": {},
   "outputs": [
    {
     "name": "stdout",
     "output_type": "stream",
     "text": [
      "root\n",
      " |-- sex: string (nullable = true)\n",
      " |-- weight: integer (nullable = true)\n",
      " |-- height: integer (nullable = true)\n",
      " |-- repwt: integer (nullable = true)\n",
      " |-- repht: integer (nullable = true)\n",
      " |-- Heightdata: vector (nullable = true)\n",
      "\n"
     ]
    }
   ],
   "source": [
    "df1.printSchema()"
   ]
  },
  {
   "cell_type": "code",
   "execution_count": 10,
   "id": "ae4f40f5",
   "metadata": {},
   "outputs": [
    {
     "name": "stdout",
     "output_type": "stream",
     "text": [
      "+----------+------+\n",
      "|Heightdata|Weight|\n",
      "+----------+------+\n",
      "|   [157.0]|    39|\n",
      "|   [154.0]|    43|\n",
      "|   [157.0]|    44|\n",
      "|   [163.0]|    45|\n",
      "|   [157.0]|    45|\n",
      "|   [163.0]|    47|\n",
      "|   [153.0]|    47|\n",
      "|   [162.0]|    47|\n",
      "|   [150.0]|    47|\n",
      "|   [163.0]|    48|\n",
      "|   [161.0]|    49|\n",
      "|   [166.0]|    50|\n",
      "|   [166.0]|    50|\n",
      "|   [171.0]|    50|\n",
      "|   [160.0]|    50|\n",
      "|   [169.0]|    50|\n",
      "|   [148.0]|    50|\n",
      "|   [158.0]|    50|\n",
      "|   [161.0]|    51|\n",
      "|   [163.0]|    51|\n",
      "+----------+------+\n",
      "only showing top 20 rows\n",
      "\n"
     ]
    }
   ],
   "source": [
    "fd=df1.select(['Heightdata','Weight'])\n",
    "fd.show()\n",
    "#final data"
   ]
  },
  {
   "cell_type": "code",
   "execution_count": 11,
   "id": "98350cb4",
   "metadata": {},
   "outputs": [],
   "source": [
    "#Spliting of data into tranin and test data  \n",
    "from pyspark.ml.regression import LinearRegression\n"
   ]
  },
  {
   "cell_type": "code",
   "execution_count": 12,
   "id": "2f33efd7",
   "metadata": {},
   "outputs": [],
   "source": [
    " train,test=fd.randomSplit([.70,.30])"
   ]
  },
  {
   "cell_type": "code",
   "execution_count": 13,
   "id": "a7abbab8",
   "metadata": {},
   "outputs": [],
   "source": [
    "LR=LinearRegression(featuresCol='Heightdata',labelCol='Weight')"
   ]
  },
  {
   "cell_type": "code",
   "execution_count": 14,
   "id": "990aaac7",
   "metadata": {},
   "outputs": [],
   "source": [
    "tm=LR.fit(train)"
   ]
  },
  {
   "cell_type": "code",
   "execution_count": 15,
   "id": "b6b3965f",
   "metadata": {},
   "outputs": [
    {
     "name": "stdout",
     "output_type": "stream",
     "text": [
      "-122.91150874098571\n",
      "[1.1024179467308415]\n"
     ]
    }
   ],
   "source": [
    "#coefficeint and intercept\n",
    "print(tm.intercept)\n",
    "print(tm.coefficients)#coefficient bet weigth and heigth"
   ]
  },
  {
   "cell_type": "code",
   "execution_count": 16,
   "id": "113804e1",
   "metadata": {},
   "outputs": [
    {
     "name": "stdout",
     "output_type": "stream",
     "text": [
      "+----------+------+------------------+\n",
      "|Heightdata|Weight|        prediction|\n",
      "+----------+------+------------------+\n",
      "|   [148.0]|    50| 40.24634737517883|\n",
      "|   [154.0]|    43| 46.86085505556389|\n",
      "|   [161.0]|    53| 54.57778068267976|\n",
      "|   [161.0]|    54| 54.57778068267976|\n",
      "|   [162.0]|    47|  55.6801986294106|\n",
      "|   [162.0]|    53|  55.6801986294106|\n",
      "|   [162.0]|    60|  55.6801986294106|\n",
      "|   [163.0]|    45|56.782616576141464|\n",
      "|   [164.0]|    52|  57.8850345228723|\n",
      "|   [164.0]|    55|  57.8850345228723|\n",
      "|   [164.0]|    59|  57.8850345228723|\n",
      "|   [165.0]|    55| 58.98745246960314|\n",
      "|   [165.0]|    55| 58.98745246960314|\n",
      "|   [165.0]|    64| 58.98745246960314|\n",
      "|   [165.0]|    68| 58.98745246960314|\n",
      "|   [166.0]|    50| 60.08987041633398|\n",
      "|   [166.0]|    58| 60.08987041633398|\n",
      "|   [166.0]|    59| 60.08987041633398|\n",
      "|   [166.0]|    64| 60.08987041633398|\n",
      "|   [166.0]|    65| 60.08987041633398|\n",
      "+----------+------+------------------+\n",
      "only showing top 20 rows\n",
      "\n"
     ]
    },
    {
     "name": "stderr",
     "output_type": "stream",
     "text": [
      "D:\\PythonAnaconda\\lib\\site-packages\\pyspark\\sql\\context.py:125: FutureWarning: Deprecated in 3.0.0. Use SparkSession.builder.getOrCreate() instead.\n",
      "  warnings.warn(\n"
     ]
    }
   ],
   "source": [
    "#evaluate the  train data\n",
    "res=tm.evaluate(test)\n",
    "res.predictions.show()"
   ]
  },
  {
   "cell_type": "code",
   "execution_count": 17,
   "id": "1c6a3f8e",
   "metadata": {},
   "outputs": [
    {
     "name": "stdout",
     "output_type": "stream",
     "text": [
      "this is R2 0.6496199761782993\n",
      "this is mean absolute error 5.89160378773051\n",
      "this is mean square root(RMSE) 54.127414573580864\n"
     ]
    }
   ],
   "source": [
    "print(\"this is R2\",res.r2)#Accuracy\n",
    "print(\"this is mean absolute error\",res.meanAbsoluteError)\n",
    "print(\"this is mean square root(RMSE)\",res.meanSquaredError)\n"
   ]
  },
  {
   "cell_type": "code",
   "execution_count": null,
   "id": "f75cd99e",
   "metadata": {},
   "outputs": [],
   "source": []
  }
 ],
 "metadata": {
  "kernelspec": {
   "display_name": "Python 3 (ipykernel)",
   "language": "python",
   "name": "python3"
  },
  "language_info": {
   "codemirror_mode": {
    "name": "ipython",
    "version": 3
   },
   "file_extension": ".py",
   "mimetype": "text/x-python",
   "name": "python",
   "nbconvert_exporter": "python",
   "pygments_lexer": "ipython3",
   "version": "3.9.7"
  }
 },
 "nbformat": 4,
 "nbformat_minor": 5
}
