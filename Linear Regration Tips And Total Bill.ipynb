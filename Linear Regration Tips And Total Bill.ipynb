{
 "cells": [
  {
   "cell_type": "code",
   "execution_count": 21,
   "id": "e5a07b32",
   "metadata": {},
   "outputs": [],
   "source": [
    "import findspark\n",
    "findspark.init()"
   ]
  },
  {
   "cell_type": "code",
   "execution_count": 22,
   "id": "b991774a",
   "metadata": {},
   "outputs": [],
   "source": [
    "import pyspark \n",
    "from pyspark.sql import SparkSession\n",
    "spark=SparkSession.builder.appName(\"StudyApp\").getOrCreate()\n"
   ]
  },
  {
   "cell_type": "code",
   "execution_count": 5,
   "id": "b3f1955c",
   "metadata": {},
   "outputs": [
    {
     "name": "stdout",
     "output_type": "stream",
     "text": [
      "+----------+----+------+------+---+------+----+\n",
      "|total_bill| tip|   sex|smoker|day|  time|size|\n",
      "+----------+----+------+------+---+------+----+\n",
      "|     16.99|1.01|Female|    No|Sun|Dinner|   2|\n",
      "|     10.34|1.66|  Male|    No|Sun|Dinner|   3|\n",
      "|     21.01| 3.5|  Male|    No|Sun|Dinner|   3|\n",
      "|     23.68|3.31|  Male|    No|Sun|Dinner|   2|\n",
      "|     24.59|3.61|Female|    No|Sun|Dinner|   4|\n",
      "|     25.29|4.71|  Male|    No|Sun|Dinner|   4|\n",
      "|      8.77| 2.0|  Male|    No|Sun|Dinner|   2|\n",
      "|     26.88|3.12|  Male|    No|Sun|Dinner|   4|\n",
      "|     15.04|1.96|  Male|    No|Sun|Dinner|   2|\n",
      "|     14.78|3.23|  Male|    No|Sun|Dinner|   2|\n",
      "|     10.27|1.71|  Male|    No|Sun|Dinner|   2|\n",
      "|     35.26| 5.0|Female|    No|Sun|Dinner|   4|\n",
      "|     15.42|1.57|  Male|    No|Sun|Dinner|   2|\n",
      "|     18.43| 3.0|  Male|    No|Sun|Dinner|   4|\n",
      "|     14.83|3.02|Female|    No|Sun|Dinner|   2|\n",
      "|     21.58|3.92|  Male|    No|Sun|Dinner|   2|\n",
      "|     10.33|1.67|Female|    No|Sun|Dinner|   3|\n",
      "|     16.29|3.71|  Male|    No|Sun|Dinner|   3|\n",
      "|     16.97| 3.5|Female|    No|Sun|Dinner|   3|\n",
      "|     20.65|3.35|  Male|    No|Sat|Dinner|   3|\n",
      "+----------+----+------+------+---+------+----+\n",
      "only showing top 20 rows\n",
      "\n"
     ]
    }
   ],
   "source": [
    "df=spark.read.csv(\"D:\\\\tips.csv\",header=True,inferSchema=True)\n",
    "df.show()"
   ]
  },
  {
   "cell_type": "code",
   "execution_count": 6,
   "id": "f87a766e",
   "metadata": {},
   "outputs": [
    {
     "name": "stdout",
     "output_type": "stream",
     "text": [
      "root\n",
      " |-- total_bill: double (nullable = true)\n",
      " |-- tip: double (nullable = true)\n",
      " |-- sex: string (nullable = true)\n",
      " |-- smoker: string (nullable = true)\n",
      " |-- day: string (nullable = true)\n",
      " |-- time: string (nullable = true)\n",
      " |-- size: integer (nullable = true)\n",
      "\n"
     ]
    }
   ],
   "source": [
    "df.printSchema()"
   ]
  },
  {
   "cell_type": "code",
   "execution_count": 8,
   "id": "b4c7b37d",
   "metadata": {},
   "outputs": [
    {
     "name": "stdout",
     "output_type": "stream",
     "text": [
      "+----------+----+------+------+---+------+----+-------+\n",
      "|total_bill| tip|   sex|smoker|day|  time|size|tipdata|\n",
      "+----------+----+------+------+---+------+----+-------+\n",
      "|     16.99|1.01|Female|    No|Sun|Dinner|   2| [1.01]|\n",
      "|     10.34|1.66|  Male|    No|Sun|Dinner|   3| [1.66]|\n",
      "|     21.01| 3.5|  Male|    No|Sun|Dinner|   3|  [3.5]|\n",
      "|     23.68|3.31|  Male|    No|Sun|Dinner|   2| [3.31]|\n",
      "|     24.59|3.61|Female|    No|Sun|Dinner|   4| [3.61]|\n",
      "|     25.29|4.71|  Male|    No|Sun|Dinner|   4| [4.71]|\n",
      "|      8.77| 2.0|  Male|    No|Sun|Dinner|   2|  [2.0]|\n",
      "|     26.88|3.12|  Male|    No|Sun|Dinner|   4| [3.12]|\n",
      "|     15.04|1.96|  Male|    No|Sun|Dinner|   2| [1.96]|\n",
      "|     14.78|3.23|  Male|    No|Sun|Dinner|   2| [3.23]|\n",
      "|     10.27|1.71|  Male|    No|Sun|Dinner|   2| [1.71]|\n",
      "|     35.26| 5.0|Female|    No|Sun|Dinner|   4|  [5.0]|\n",
      "|     15.42|1.57|  Male|    No|Sun|Dinner|   2| [1.57]|\n",
      "|     18.43| 3.0|  Male|    No|Sun|Dinner|   4|  [3.0]|\n",
      "|     14.83|3.02|Female|    No|Sun|Dinner|   2| [3.02]|\n",
      "|     21.58|3.92|  Male|    No|Sun|Dinner|   2| [3.92]|\n",
      "|     10.33|1.67|Female|    No|Sun|Dinner|   3| [1.67]|\n",
      "|     16.29|3.71|  Male|    No|Sun|Dinner|   3| [3.71]|\n",
      "|     16.97| 3.5|Female|    No|Sun|Dinner|   3|  [3.5]|\n",
      "|     20.65|3.35|  Male|    No|Sat|Dinner|   3| [3.35]|\n",
      "+----------+----+------+------+---+------+----+-------+\n",
      "only showing top 20 rows\n",
      "\n"
     ]
    }
   ],
   "source": [
    "#formating\n",
    "from pyspark.ml.feature import VectorAssembler \n",
    "featureassembler=VectorAssembler(inputCols=['tip'],outputCol='tipdata')\n",
    "df1=featureassembler.transform(df)\n",
    "df1.show()\n"
   ]
  },
  {
   "cell_type": "code",
   "execution_count": 9,
   "id": "abe32b6d",
   "metadata": {},
   "outputs": [
    {
     "name": "stdout",
     "output_type": "stream",
     "text": [
      "root\n",
      " |-- total_bill: double (nullable = true)\n",
      " |-- tip: double (nullable = true)\n",
      " |-- sex: string (nullable = true)\n",
      " |-- smoker: string (nullable = true)\n",
      " |-- day: string (nullable = true)\n",
      " |-- time: string (nullable = true)\n",
      " |-- size: integer (nullable = true)\n",
      " |-- tipdata: vector (nullable = true)\n",
      "\n"
     ]
    }
   ],
   "source": [
    "df1.printSchema()"
   ]
  },
  {
   "cell_type": "code",
   "execution_count": 12,
   "id": "d66215ff",
   "metadata": {},
   "outputs": [
    {
     "name": "stdout",
     "output_type": "stream",
     "text": [
      "+-------+----------+\n",
      "|tipdata|total_bill|\n",
      "+-------+----------+\n",
      "| [1.01]|     16.99|\n",
      "| [1.66]|     10.34|\n",
      "|  [3.5]|     21.01|\n",
      "| [3.31]|     23.68|\n",
      "| [3.61]|     24.59|\n",
      "| [4.71]|     25.29|\n",
      "|  [2.0]|      8.77|\n",
      "| [3.12]|     26.88|\n",
      "| [1.96]|     15.04|\n",
      "| [3.23]|     14.78|\n",
      "| [1.71]|     10.27|\n",
      "|  [5.0]|     35.26|\n",
      "| [1.57]|     15.42|\n",
      "|  [3.0]|     18.43|\n",
      "| [3.02]|     14.83|\n",
      "| [3.92]|     21.58|\n",
      "| [1.67]|     10.33|\n",
      "| [3.71]|     16.29|\n",
      "|  [3.5]|     16.97|\n",
      "| [3.35]|     20.65|\n",
      "+-------+----------+\n",
      "only showing top 20 rows\n",
      "\n"
     ]
    }
   ],
   "source": [
    "fd=df1.select(['tipdata','total_bill'])\n",
    "fd.show()\n",
    "#final data"
   ]
  },
  {
   "cell_type": "code",
   "execution_count": 13,
   "id": "5a3bd798",
   "metadata": {},
   "outputs": [],
   "source": [
    "#Spliting of data into tranin and test data  \n",
    "from pyspark.ml.regression import LinearRegression\n"
   ]
  },
  {
   "cell_type": "code",
   "execution_count": 14,
   "id": "a91ddfd2",
   "metadata": {},
   "outputs": [],
   "source": [
    "train,test=fd.randomSplit([.70,.30])"
   ]
  },
  {
   "cell_type": "code",
   "execution_count": 16,
   "id": "2793b0bf",
   "metadata": {},
   "outputs": [],
   "source": [
    "LR=LinearRegression(featuresCol='tipdata',labelCol='total_bill')"
   ]
  },
  {
   "cell_type": "code",
   "execution_count": 17,
   "id": "89459bb4",
   "metadata": {},
   "outputs": [],
   "source": [
    "tm=LR.fit(train)"
   ]
  },
  {
   "cell_type": "code",
   "execution_count": 18,
   "id": "54a552e5",
   "metadata": {},
   "outputs": [
    {
     "name": "stdout",
     "output_type": "stream",
     "text": [
      "6.314330821886464\n",
      "[4.561345315540163]\n"
     ]
    }
   ],
   "source": [
    "#coefficeint and intercept\n",
    "print(tm.intercept)\n",
    "print(tm.coefficients)#coefficient bet weigth and heigth#coefficeint and intercept"
   ]
  },
  {
   "cell_type": "code",
   "execution_count": 19,
   "id": "70bafc08",
   "metadata": {},
   "outputs": [
    {
     "name": "stdout",
     "output_type": "stream",
     "text": [
      "+-------+----------+------------------+\n",
      "|tipdata|total_bill|        prediction|\n",
      "+-------+----------+------------------+\n",
      "|  [1.0]|      3.07|10.875676137426627|\n",
      "|  [1.0]|      12.6|10.875676137426627|\n",
      "| [1.17]|     32.83|11.651104841068454|\n",
      "| [1.25]|      8.51|12.016012466311668|\n",
      "| [1.44]|      7.74|12.882668076264299|\n",
      "|  [1.5]|      8.35| 13.15634879519671|\n",
      "|  [1.5]|     15.69| 13.15634879519671|\n",
      "| [1.63]|     11.87|13.749323686216929|\n",
      "| [1.68]|     13.42|13.977390951993938|\n",
      "| [1.75]|     17.82| 14.29668512408175|\n",
      "| [1.83]|     10.07|14.661592749324964|\n",
      "|  [2.0]|      7.51|15.437021452966789|\n",
      "|  [2.0]|     10.63|15.437021452966789|\n",
      "|  [2.0]|     12.26|15.437021452966789|\n",
      "|  [2.0]|     13.37|15.437021452966789|\n",
      "|  [2.0]|     13.51|15.437021452966789|\n",
      "|  [2.0]|     13.81|15.437021452966789|\n",
      "|  [2.0]|     14.52|15.437021452966789|\n",
      "|  [2.0]|     17.89|15.437021452966789|\n",
      "|  [2.0]|     19.77|15.437021452966789|\n",
      "+-------+----------+------------------+\n",
      "only showing top 20 rows\n",
      "\n"
     ]
    },
    {
     "name": "stderr",
     "output_type": "stream",
     "text": [
      "D:\\PythonAnaconda\\lib\\site-packages\\pyspark\\sql\\context.py:125: FutureWarning: Deprecated in 3.0.0. Use SparkSession.builder.getOrCreate() instead.\n",
      "  warnings.warn(\n"
     ]
    }
   ],
   "source": [
    "#evaluate the  train data\n",
    "res=tm.evaluate(test)\n",
    "res.predictions.show()"
   ]
  },
  {
   "cell_type": "code",
   "execution_count": 20,
   "id": "a6ab8733",
   "metadata": {},
   "outputs": [
    {
     "name": "stdout",
     "output_type": "stream",
     "text": [
      "this is R2 0.30299515732829296\n",
      "this is mean absolute error 4.886326742905538\n",
      "this is mean square root(RMSE) 41.385758708501974\n"
     ]
    }
   ],
   "source": [
    "print(\"this is R2\",res.r2)#Accuracy\n",
    "print(\"this is mean absolute error\",res.meanAbsoluteError)\n",
    "print(\"this is mean square root(RMSE)\",res.meanSquaredError)\n"
   ]
  },
  {
   "cell_type": "code",
   "execution_count": null,
   "id": "701aede8",
   "metadata": {},
   "outputs": [],
   "source": []
  },
  {
   "cell_type": "code",
   "execution_count": null,
   "id": "d6bad20f",
   "metadata": {},
   "outputs": [],
   "source": []
  }
 ],
 "metadata": {
  "kernelspec": {
   "display_name": "Python 3 (ipykernel)",
   "language": "python",
   "name": "python3"
  },
  "language_info": {
   "codemirror_mode": {
    "name": "ipython",
    "version": 3
   },
   "file_extension": ".py",
   "mimetype": "text/x-python",
   "name": "python",
   "nbconvert_exporter": "python",
   "pygments_lexer": "ipython3",
   "version": "3.9.7"
  }
 },
 "nbformat": 4,
 "nbformat_minor": 5
}
